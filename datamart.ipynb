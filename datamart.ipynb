{
 "cells": [
  {
   "cell_type": "code",
   "execution_count": null,
   "id": "789017c6",
   "metadata": {},
   "outputs": [],
   "source": [
    "mysql_args = {\n",
    "    \"uid\" : \"root\",\n",
    "    \"pwd\" : \"xxxx\",\n",
    "    \"hostname\" : \"localhost\",\n",
    "    \"dbname\" : \"adventureworks_dm\"\n",
    "}\n",
    "\n",
    "mongodb_args = {\n",
    "    \"user_name\" : \"bgv2\",\n",
    "    \"password\" : \"xxxx\",\n",
    "    \"cluster_name\" : \"Cluster0\",\n",
    "    \"cluster_subnet\" : \"xxxx\",\n",
    "    \"cluster_location\" : \"atlas\",\n",
    "    \"db_name\" : \"adventureworks\"\n",
    "}"
   ]
  },
  {
   "cell_type": "markdown",
   "id": "c5dddbc3",
   "metadata": {},
   "source": [
    "Connecting to SQL Database"
   ]
  },
  {
   "cell_type": "code",
   "execution_count": 14,
   "id": "18184270",
   "metadata": {},
   "outputs": [],
   "source": [
    "import pandas as pd\n",
    "import sqlalchemy\n",
    "from sqlalchemy import create_engine, text\n",
    "import pymongo\n",
    "import certifi\n",
    "\n",
    "\n",
    "conn_str = f\"mysql+pymysql://{mysql_args['uid']}:{mysql_args['pwd']}@{mysql_args['hostname']}/{mysql_args['dbname']}\"\n",
    "sqlEngine = create_engine(conn_str, pool_recycle=3600)\n",
    "connection = sqlEngine.connect()"
   ]
  },
  {
   "cell_type": "markdown",
   "id": "33563dea",
   "metadata": {},
   "source": [
    "Loading Currency Rates from CSV"
   ]
  },
  {
   "cell_type": "code",
   "execution_count": null,
   "id": "e749cebf",
   "metadata": {},
   "outputs": [
    {
     "data": {
      "text/html": [
       "<div>\n",
       "<style scoped>\n",
       "    .dataframe tbody tr th:only-of-type {\n",
       "        vertical-align: middle;\n",
       "    }\n",
       "\n",
       "    .dataframe tbody tr th {\n",
       "        vertical-align: top;\n",
       "    }\n",
       "\n",
       "    .dataframe thead th {\n",
       "        text-align: right;\n",
       "    }\n",
       "</style>\n",
       "<table border=\"1\" class=\"dataframe\">\n",
       "  <thead>\n",
       "    <tr style=\"text-align: right;\">\n",
       "      <th></th>\n",
       "      <th>CurrencyRateID</th>\n",
       "      <th>CurrencyRateDate</th>\n",
       "      <th>FromCurrencyCode</th>\n",
       "      <th>ToCurrencyCode</th>\n",
       "      <th>AverageRate</th>\n",
       "      <th>EndOfDayRate</th>\n",
       "      <th>ModifiedDate</th>\n",
       "    </tr>\n",
       "  </thead>\n",
       "  <tbody>\n",
       "    <tr>\n",
       "      <th>0</th>\n",
       "      <td>1</td>\n",
       "      <td>2001-07-01 00:00:00</td>\n",
       "      <td>USD</td>\n",
       "      <td>ARS</td>\n",
       "      <td>1.0000</td>\n",
       "      <td>1.0002</td>\n",
       "      <td>2001-07-01 00:00:00</td>\n",
       "    </tr>\n",
       "    <tr>\n",
       "      <th>1</th>\n",
       "      <td>2</td>\n",
       "      <td>2001-07-01 00:00:00</td>\n",
       "      <td>USD</td>\n",
       "      <td>AUD</td>\n",
       "      <td>1.5491</td>\n",
       "      <td>1.5500</td>\n",
       "      <td>2001-07-01 00:00:00</td>\n",
       "    </tr>\n",
       "    <tr>\n",
       "      <th>2</th>\n",
       "      <td>3</td>\n",
       "      <td>2001-07-01 00:00:00</td>\n",
       "      <td>USD</td>\n",
       "      <td>BRL</td>\n",
       "      <td>1.9379</td>\n",
       "      <td>1.9419</td>\n",
       "      <td>2001-07-01 00:00:00</td>\n",
       "    </tr>\n",
       "    <tr>\n",
       "      <th>3</th>\n",
       "      <td>4</td>\n",
       "      <td>2001-07-01 00:00:00</td>\n",
       "      <td>USD</td>\n",
       "      <td>CAD</td>\n",
       "      <td>1.4641</td>\n",
       "      <td>1.4683</td>\n",
       "      <td>2001-07-01 00:00:00</td>\n",
       "    </tr>\n",
       "    <tr>\n",
       "      <th>4</th>\n",
       "      <td>5</td>\n",
       "      <td>2001-07-01 00:00:00</td>\n",
       "      <td>USD</td>\n",
       "      <td>CNY</td>\n",
       "      <td>8.2781</td>\n",
       "      <td>8.2784</td>\n",
       "      <td>2001-07-01 00:00:00</td>\n",
       "    </tr>\n",
       "  </tbody>\n",
       "</table>\n",
       "</div>"
      ],
      "text/plain": [
       "   CurrencyRateID     CurrencyRateDate FromCurrencyCode ToCurrencyCode  \\\n",
       "0               1  2001-07-01 00:00:00              USD            ARS   \n",
       "1               2  2001-07-01 00:00:00              USD            AUD   \n",
       "2               3  2001-07-01 00:00:00              USD            BRL   \n",
       "3               4  2001-07-01 00:00:00              USD            CAD   \n",
       "4               5  2001-07-01 00:00:00              USD            CNY   \n",
       "\n",
       "   AverageRate  EndOfDayRate         ModifiedDate  \n",
       "0       1.0000        1.0002  2001-07-01 00:00:00  \n",
       "1       1.5491        1.5500  2001-07-01 00:00:00  \n",
       "2       1.9379        1.9419  2001-07-01 00:00:00  \n",
       "3       1.4641        1.4683  2001-07-01 00:00:00  \n",
       "4       8.2781        8.2784  2001-07-01 00:00:00  "
      ]
     },
     "execution_count": 19,
     "metadata": {},
     "output_type": "execute_result"
    }
   ],
   "source": [
    "curr_rate = pd.read_csv(\"datafiles/currencyrate.csv\")\n",
    "curr_rate.drop(columns=['ModifiedDate'], inplace=True)\n",
    "curr_rate.to_sql(\"currencyrate\", con=connection, if_exists='replace', index=False)"
   ]
  },
  {
   "cell_type": "code",
   "execution_count": 8,
   "id": "371b13ff",
   "metadata": {},
   "outputs": [
    {
     "data": {
      "text/plain": [
       "<sqlalchemy.engine.cursor.CursorResult at 0x11abfd8d0>"
      ]
     },
     "execution_count": 8,
     "metadata": {},
     "output_type": "execute_result"
    }
   ],
   "source": [
    "sql_create_dim_customers = \"\"\"\n",
    "create table if not exists dim_customers as\n",
    "select * from adventureworks.dim_customers_vw;\n",
    "\"\"\"\n",
    "\n",
    "sql_create_dim_products = \"\"\"\n",
    "create table if not exists dim_products as\n",
    "select * from adventureworks.dim_products_vw;\n",
    "\"\"\"\n",
    "\n",
    "sql_create_dim_vendors = \"\"\"\n",
    "create table if not exists dim_vendors as\n",
    "select * from adventureworks.dim_vendors_vw;\n",
    "\"\"\"\n",
    "\n",
    "connection.execute(text(sql_create_dim_customers))\n",
    "connection.execute(text(sql_create_dim_products))\n",
    "connection.execute(text(sql_create_dim_vendors))"
   ]
  },
  {
   "cell_type": "code",
   "execution_count": 10,
   "id": "5ca74f3d",
   "metadata": {},
   "outputs": [],
   "source": [
    "def get_mongo_client(**args):\n",
    "    '''Validate proper input'''\n",
    "    if args[\"cluster_location\"] not in ['atlas', 'local']:\n",
    "        raise Exception(\"You must specify either 'atlas' or 'local' for the cluster_location parameter.\")\n",
    "    \n",
    "    else:\n",
    "        if args[\"cluster_location\"] == \"atlas\":\n",
    "            connect_str = f\"mongodb+srv://{args['user_name']}:{args['password']}@\"\n",
    "            connect_str += f\"{args['cluster_name']}.{args['cluster_subnet']}.mongodb.net\"\n",
    "            client = pymongo.MongoClient(connect_str, tlsCAFile=certifi.where())\n",
    "            \n",
    "        elif args[\"cluster_location\"] == \"local\":\n",
    "            client = pymongo.MongoClient(\"mongodb://localhost:27017/\")\n",
    "        \n",
    "    return client\n",
    "\n",
    "\n",
    "def get_mongo_dataframe(mongo_client, db_name, collection, query):\n",
    "    '''Query MongoDB, and fill a python list with documents to create a DataFrame'''\n",
    "    db = mongo_client[db_name]\n",
    "    dframe = pd.DataFrame(list(db[collection].find(query)))\n",
    "    dframe.drop(['_id'], axis=1, inplace=True)\n",
    "    mongo_client.close()\n",
    "    \n",
    "    return dframe\n",
    "\n",
    "def get_sql_dataframe(sql_query, **args):\n",
    "    '''Create a connection to the MySQL database'''\n",
    "    conn_str = f\"mysql+pymysql://{args['uid']}:{args['pwd']}@{args['hostname']}/{args['dbname']}\"\n",
    "    sqlEngine = create_engine(conn_str, pool_recycle=3600)\n",
    "    connection = sqlEngine.connect()\n",
    "    \n",
    "    '''Invoke the pd.read_sql() function to query the database, and fill a Pandas DataFrame.'''\n",
    "    dframe = pd.read_sql(text(sql_query), connection);\n",
    "    connection.close()\n",
    "    \n",
    "    return dframe\n",
    "    \n",
    "\n",
    "def set_dataframe(df, table_name, pk_column, db_operation, **args):\n",
    "    '''Create a connection to the MySQL database'''\n",
    "    conn_str = f\"mysql+pymysql://{args['uid']}:{args['pwd']}@{args['hostname']}/{args['dbname']}\"\n",
    "    sqlEngine = create_engine(conn_str, pool_recycle=3600)\n",
    "    connection = sqlEngine.connect()\n",
    "    \n",
    "    '''Invoke the Pandas DataFrame .to_sql( ) function to either create, or append to, a table'''\n",
    "    if db_operation == \"insert\":\n",
    "        df.to_sql(table_name, con=connection, index=False, if_exists='replace')\n",
    "        connection.execute(text(f\"ALTER TABLE {table_name} ADD PRIMARY KEY ({pk_column});\"))\n",
    "            \n",
    "    elif db_operation == \"update\":\n",
    "        df.to_sql(table_name, con=connection, index=False, if_exists='append')\n",
    "    \n",
    "    connection.close()"
   ]
  },
  {
   "cell_type": "markdown",
   "id": "03501abb",
   "metadata": {},
   "source": [
    "Loading Data from MongoDB"
   ]
  },
  {
   "cell_type": "code",
   "execution_count": 18,
   "id": "6e3631c2",
   "metadata": {},
   "outputs": [
    {
     "data": {
      "text/plain": [
       "4"
      ]
     },
     "execution_count": 18,
     "metadata": {},
     "output_type": "execute_result"
    }
   ],
   "source": [
    "client = get_mongo_client(**mongodb_args)\n",
    "productreview = get_mongo_dataframe(client, mongodb_args['db_name'], 'productreview', {})\n",
    "productreview.to_sql(\"productreview\", con=connection, if_exists='replace', index=False)"
   ]
  },
  {
   "cell_type": "markdown",
   "id": "93211e41",
   "metadata": {},
   "source": [
    "Creating Fact Table"
   ]
  },
  {
   "cell_type": "code",
   "execution_count": null,
   "id": "916a27fd",
   "metadata": {},
   "outputs": [],
   "source": [
    "\n",
    "query1 = \"\"\"\n",
    "\n",
    "select\n",
    "soh.SalesOrderID,\n",
    "\t\tsoh.RevisionNumber,\n",
    "\t\tsoh.OrderDate,\n",
    "\t\tsoh.DueDate,\n",
    "\t\tsoh.ShipDate,\n",
    "\t\tsoh.Status,\n",
    "\t\tsoh.OnlineOrderFlag,\n",
    "\t\tsoh.SalesOrderNumber,\n",
    "\t\tsoh.PurchaseOrderNumber,\n",
    "\t\tsoh.AccountNumber,\n",
    "\t\tsoh.CustomerID,\n",
    "\t\tsoh.ContactID,\n",
    "\t\tsoh.SalesPersonID,\n",
    "        soh.BillToAddressID,\n",
    "\t\tsoh.ShipToAddressID,\n",
    "soh.CreditCardApprovalCode,\n",
    "\t\tsoh.SubTotal,\n",
    "\t\tsoh.TaxAmt,\n",
    "\t\tsoh.Freight,\n",
    "\t\tsoh.TotalDue,\n",
    "\t\tsod.CarrierTrackingNumber,\n",
    "\t\tsod.OrderQty,\n",
    "\t\tsod.ProductID,\n",
    "\t\tsod.UnitPrice,\n",
    "\t\tsod.LineTotal,\n",
    "sod.CarrierTrackingNumber,\n",
    "\t\tsod.OrderQty,\n",
    "\t\tsod.ProductID,\n",
    "\t\tsod.UnitPrice,\n",
    "\t\tsod.LineTotal\n",
    "\n",
    "from adventureworks.salesorderheader AS soh\n",
    "left outer join adventureworks.salesorderdetail AS sod\n",
    "on soh.SalesOrderID = sod.SalesOrderID\n",
    "\"\"\"\n",
    "sales = get_sql_dataframe(query1, **mysql_args)\n",
    "sales[\"OrderDateKey\"] = sales[\"OrderDate\"].dt.strftime('%Y%m%d').astype(int)\n",
    "sales[\"DueDateKey\"] = sales[\"DueDate\"].dt.strftime('%Y%m%d').astype(int)\n",
    "sales[\"ShipDateKey\"] = sales[\"ShipDate\"].dt.strftime('%Y%m%d').astype(int)\n",
    "\n",
    "fact_table_sales = sales[[\n",
    "    \"TotalDue\",\n",
    "    \"OrderDateKey\",\n",
    "    \"DueDateKey\",\n",
    "    \"ShipDateKey\",\n",
    "    \"CustomerID\",\n",
    "    \"ProductID\",\n",
    "    \"SalesOrderID\",\n",
    "    \"LineTotal\"\n",
    "]]\n",
    "\n",
    "fact_table_sales.to_sql(\"fact_sales\", con=connection, if_exists='replace', index=False)"
   ]
  }
 ],
 "metadata": {
  "kernelspec": {
   "display_name": "my_jupyter_env",
   "language": "python",
   "name": "python3"
  },
  "language_info": {
   "codemirror_mode": {
    "name": "ipython",
    "version": 3
   },
   "file_extension": ".py",
   "mimetype": "text/x-python",
   "name": "python",
   "nbconvert_exporter": "python",
   "pygments_lexer": "ipython3",
   "version": "3.13.7"
  }
 },
 "nbformat": 4,
 "nbformat_minor": 5
}
